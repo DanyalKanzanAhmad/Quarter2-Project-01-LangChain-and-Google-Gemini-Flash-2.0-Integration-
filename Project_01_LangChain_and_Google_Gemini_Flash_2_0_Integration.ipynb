{
  "nbformat": 4,
  "nbformat_minor": 0,
  "metadata": {
    "colab": {
      "provenance": [],
      "authorship_tag": "ABX9TyP7ErWRca+LsTvCgBPqYKa5",
      "include_colab_link": true
    },
    "kernelspec": {
      "name": "python3",
      "display_name": "Python 3"
    },
    "language_info": {
      "name": "python"
    }
  },
  "cells": [
    {
      "cell_type": "markdown",
      "metadata": {
        "id": "view-in-github",
        "colab_type": "text"
      },
      "source": [
        "<a href=\"https://colab.research.google.com/github/DanyalKanzanAhmad/Quarter2-Project-01-LangChain-and-Google-Gemini-Flash-2.0-Integration-/blob/main/Project_01_LangChain_and_Google_Gemini_Flash_2_0_Integration.ipynb\" target=\"_parent\"><img src=\"https://colab.research.google.com/assets/colab-badge.svg\" alt=\"Open In Colab\"/></a>"
      ]
    },
    {
      "cell_type": "code",
      "source": [
        "import os\n",
        "from google.colab import userdata\n",
        "GEMINI_API_KEY = userdata.get('GOOGLE_API_KEY')\n",
        "os.environ['GEMINI_API_KEY'] = GEMINI_API_KEY"
      ],
      "metadata": {
        "id": "WXuYPXyUtiyy"
      },
      "execution_count": 72,
      "outputs": []
    },
    {
      "cell_type": "code",
      "source": [
        "!pip install --upgrade --quiet langchain_google_genai"
      ],
      "metadata": {
        "id": "FGTjM5HetzhN"
      },
      "execution_count": 73,
      "outputs": []
    },
    {
      "cell_type": "code",
      "source": [
        "# Importing necessary libraries\n",
        "from langchain_google_genai import ChatGoogleGenerativeAI\n",
        "from langchain.prompts import PromptTemplate\n",
        "from IPython.display import display, Markdown\n",
        "\n",
        "# Define the initial prompt template\n",
        "# The first prompt takes a topic and asks the model to explain it in detail\n",
        "initial_prompt = PromptTemplate(\n",
        "    input_variables=[\"topic\"],  # Input variable 'topic' to specify the subject matter\n",
        "    template=\"\"\"\n",
        "    Please provide a comprehensive explanation of the topic: \"{topic}\".\n",
        "\n",
        "    Your explanation should:\n",
        "    - Be simple to grasp for a general audience.\n",
        "    - Incorporate relevant examples or applications.\n",
        "    - Avoid technical jargon, while still maintaining precision.\n",
        "    \"\"\"\n",
        ")\n",
        "\n",
        "# Define the second prompt template\n",
        "# This template will format the explanation into markdown\n",
        "markdown_prompt = PromptTemplate(\n",
        "    input_variables=[\"detailed_response\"],  # Input the detailed explanation from the first chain\n",
        "    template=\"\"\"\n",
        "    Based on the explanation provided: \"{detailed_response}\", generate a detailed markdown summary.\n",
        "\n",
        "    The markdown structure should consist of:\n",
        "    # Introduction\n",
        "    A brief summary of the topic.\n",
        "\n",
        "    ## Key Takeaways\n",
        "    The major points related to the topic.\n",
        "\n",
        "    ## Deep Dive\n",
        "    A thorough explanation of important subtopics or concepts.\n",
        "\n",
        "    ## Real-World Examples\n",
        "    Practical examples, applications, or case studies.\n",
        "\n",
        "    ## Final Thoughts\n",
        "    A conclusion that reinforces the key insights.\n",
        "    \"\"\"\n",
        ")\n",
        "\n",
        "# Define the third prompt template\n",
        "# This will convert the markdown into a specific prompt for generating an image\n",
        "image_prompt = PromptTemplate(\n",
        "    input_variables=[\"markdown_explanation\"],  # Input the markdown explanation from the second chain\n",
        "    template=\"\"\"\n",
        "    Convert the following markdown explanation into a descriptive image generation prompt:\n",
        "    {markdown_explanation}\n",
        "\n",
        "    The prompt should be:\n",
        "    - Clear, vivid, and detailed.\n",
        "    - Focus on key visual elements, themes, or styles.\n",
        "    - Provide enough context to generate an accurate and realistic image.\n",
        "    \"\"\"\n",
        ")\n",
        "\n",
        "# Initialize the model with the API key and temperature settings\n",
        "gemini_model_1 = ChatGoogleGenerativeAI(\n",
        "    api_key=GEMINI_API_KEY,  # The API key for accessing Gemini 2.0\n",
        "    model=\"gemini-2.0-flash-exp\",  # Model used in the first chain\n",
        "    temperature=0.7  # A moderate temperature to generate creative yet structured responses\n",
        ")\n",
        "\n",
        "gemini_model_2 = ChatGoogleGenerativeAI(\n",
        "    api_key=GEMINI_API_KEY,  # The API key for accessing Gemini 2.0\n",
        "    model=\"gemini-2.0-flash-exp\",  # Model used in the second chain\n",
        "    temperature=0.2,  # Lower temperature for more precise and factual responses\n",
        "    max_output_tokens=1200  # Allow for a longer output for detailed explanations\n",
        ")\n",
        "\n",
        "gemini_model_3 = ChatGoogleGenerativeAI(\n",
        "    api_key=GEMINI_API_KEY,  # The API key for accessing Gemini 2.0\n",
        "    model=\"gemini-2.0-flash-exp\",  # Model used in the third chain\n",
        "    max_output_tokens=400,  # Output length limitation for concise image generation\n",
        "    temperature=0.9  # Higher temperature to encourage creative responses\n",
        ")\n",
        "\n",
        "# Creating chains that connect the prompts with models\n",
        "chain_1 = initial_prompt | gemini_model_1  # First chain uses the initial prompt and model 1\n",
        "chain_2 = markdown_prompt | gemini_model_2  # Second chain uses the markdown prompt and model 2\n",
        "chain_3 = image_prompt | gemini_model_3  # Third chain uses the image prompt and model 3\n",
        "\n",
        "# Step 1: Trigger the first chain with a sample topic\n",
        "topic = \"The Evolution of Artificial Intelligence\"  # Sample topic to generate an explanation\n",
        "first_output = chain_1.invoke({\"topic\": topic})  # Get the explanation response from chain 1\n",
        "print(\"\\n\\n\\nFirst Chain Output:\\n\\n\")\n",
        "display(Markdown(first_output.content))  # Display the response as markdown\n",
        "\n",
        "# Step 2: Trigger the second chain with the output from the first chain\n",
        "second_output = chain_2.invoke({\"detailed_response\": first_output.content})  # Pass the first response to the second chain\n",
        "print(\"\\n\\n\\nSecond Chain Output (Markdown):\\n\\n\")\n",
        "display(Markdown(second_output.content))  # Display the formatted markdown response\n",
        "\n",
        "# Step 3: Trigger the third chain with the markdown from the second chain\n",
        "third_output = chain_3.invoke({\"markdown_explanation\": second_output.content})  # Pass the second response to the third chain\n",
        "print(\"\\n\\n\\nThird Chain Output (Image Generation Prompt):\\n\\n\")\n",
        "display(Markdown(third_output.content))  # Display the generated image prompt as markdown\n"
      ],
      "metadata": {
        "colab": {
          "base_uri": "https://localhost:8080/",
          "height": 1000
        },
        "id": "xJZX9_gvt8O1",
        "outputId": "f174712e-6e9f-48e8-c2f6-fc8bb013783d"
      },
      "execution_count": 74,
      "outputs": [
        {
          "output_type": "stream",
          "name": "stdout",
          "text": [
            "\n",
            "\n",
            "\n",
            "First Chain Output:\n",
            "\n",
            "\n"
          ]
        },
        {
          "output_type": "display_data",
          "data": {
            "text/plain": [
              "<IPython.core.display.Markdown object>"
            ],
            "text/markdown": "Okay, let's explore the fascinating journey of Artificial Intelligence (AI), from its early dreams to its current reality. We'll break it down into understandable stages, avoiding complex technical terms.\n\n**Imagine AI as a growing child, learning and developing over time.**\n\n**1. The Dream (1950s - 1960s): The Birth of AI**\n\n* **What was it like?** Think of this as AI's infancy. People were excited by the idea of creating machines that could think like humans. They focused on solving logic puzzles and playing simple games like checkers.\n* **Key Idea:** The main approach was to program machines with specific rules. If this happens, then do that.\n* **Example:** Imagine a program designed to play checkers. It would have rules like \"if you can jump an opponent's piece, do it,\" and \"if your king is threatened, move it.\"\n* **Limitations:** These early programs were very brittle. They could only do exactly what they were programmed to do and couldn't adapt to new situations or learn from their mistakes. They were like a child who can only follow a set of instructions but can't think creatively.\n\n**2. The Expert Systems Era (1970s - 1980s): Teaching Machines Knowledge**\n\n* **What was it like?** This was like sending the AI to school. Instead of just rules, the focus shifted to giving computers a lot of *knowledge* about specific areas.\n* **Key Idea:** These \"expert systems\" were designed to mimic the reasoning of experts in a particular field. They were built with a vast database of facts and rules specific to that field.\n* **Example:** A medical diagnosis program might contain information about different diseases, their symptoms, and possible treatments. Doctors could use this program to help them diagnose patients.\n* **Limitations:** These systems were good at their specific tasks but lacked general intelligence. They were like a very knowledgeable person in one subject, but ignorant in others. They also struggled with uncertainty and couldn't learn from new information easily.\n\n**3. The AI Winter (Late 1980s - Early 1990s): A Period of Disappointment**\n\n* **What happened?** Funding and interest in AI dwindled because the technology wasn't living up to the early hype. Expert systems were proving difficult and expensive to maintain.\n* **Key Idea:** People realized that creating truly intelligent machines was much more challenging than initially thought.\n* **Why the \"winter\"?** The progress was slow, and the early promises of human-level AI seemed a long way off. This led to less investment and research. It was like the child hitting a difficult patch in their development.\n\n**4. The Rise of Machine Learning (Late 1990s - Present): Learning from Data**\n\n* **What was it like?** This is like the AI learning to learn! Instead of being explicitly programmed, machines are now taught to recognize patterns and make predictions from large amounts of data.\n* **Key Idea:** Machine learning algorithms analyze data, identify patterns, and improve their performance over time without being explicitly told what to do.\n* **Types of Machine Learning:**\n    * **Supervised Learning:** Imagine showing a child lots of pictures of cats and dogs and telling them which is which. The machine learns to identify cats and dogs based on these examples.\n    * **Unsupervised Learning:** Imagine giving a child a pile of toys and letting them sort them into groups based on their characteristics (e.g., color, shape). The machine learns to find patterns in data without being told what to look for.\n    * **Reinforcement Learning:** Imagine teaching a dog tricks by giving it treats when it performs the right action. The machine learns by trial and error, receiving rewards for desired behavior.\n* **Examples:**\n    * **Spam filters:** Learn to identify spam emails based on examples.\n    * **Recommendation systems:** Suggest movies or products based on your past behavior.\n    * **Image recognition:** Identify objects in photos (faces, cars, etc.).\n    * **Self-driving cars:** Learn to navigate roads and traffic.\n* **Why is it revolutionary?** Machine learning allows AI systems to handle complex tasks, adapt to new situations, and improve continuously. It's like the child finally learning to reason and think for themselves.\n\n**5. Deep Learning and the AI Boom (2010s - Present): The Power of Neural Networks**\n\n* **What is it?** Deep learning is a specific type of machine learning that uses artificial neural networks with many layers (hence \"deep\"). These networks are inspired by the way the human brain works.\n* **Key Idea:** Deep learning allows computers to learn more complex patterns from data than traditional machine learning methods.\n* **Examples:**\n    * **Voice assistants:** Siri, Alexa, and Google Assistant use deep learning to understand and respond to spoken commands.\n    * **Facial recognition:** Used for unlocking smartphones and identifying people in photos.\n    * **Machine translation:** Translate languages accurately and efficiently.\n    * **Game playing:** AI systems can now beat humans in complex games like Go and chess.\n* **Why is it important?** Deep learning has fueled the recent boom in AI and has led to many groundbreaking advancements. It's like the child suddenly developing advanced cognitive abilities.\n\n**Looking Ahead:**\n\nAI is still rapidly evolving. We can expect to see even more advanced AI systems in the future, with potential applications in various areas like:\n\n* **Healthcare:** Personalized medicine, drug discovery, and improved diagnostics.\n* **Transportation:** Self-driving vehicles, optimized traffic flow, and logistics.\n* **Education:** Personalized learning experiences, intelligent tutoring systems.\n* **Manufacturing:** Automated production processes, quality control, and predictive maintenance.\n\n**Important Considerations:**\n\nWhile AI offers incredible potential, it's important to consider the ethical implications and challenges associated with its development:\n\n* **Bias:** AI systems can learn and perpetuate biases present in the data they are trained on.\n* **Job displacement:** Automation driven by AI could lead to job losses in certain industries.\n* **Privacy:** The use of AI raises concerns about the collection and use of personal data.\n* **Control:** Ensuring that AI systems are used responsibly and ethically is crucial.\n\n**In Summary:**\n\nThe evolution of AI has been a journey of dreams, disappointments, and breakthroughs. From simple rule-based programs to powerful machine learning systems, AI has come a long way. It's a field that continues to evolve rapidly, promising to transform our lives in profound ways. Like any powerful tool, AI must be developed and used responsibly to ensure a positive future for all. It's like our growing child, now a teenager, needing guidance and direction as it continues to develop into adulthood.\n"
          },
          "metadata": {}
        },
        {
          "output_type": "stream",
          "name": "stdout",
          "text": [
            "\n",
            "\n",
            "\n",
            "Second Chain Output (Markdown):\n",
            "\n",
            "\n"
          ]
        },
        {
          "output_type": "display_data",
          "data": {
            "text/plain": [
              "<IPython.core.display.Markdown object>"
            ],
            "text/markdown": "# Introduction\nThis document outlines the evolution of Artificial Intelligence (AI), tracing its development from early conceptualizations to its current sophisticated state. It uses the analogy of a growing child to illustrate the different stages of AI development, highlighting key advancements, limitations, and future considerations.\n\n## Key Takeaways\n*   AI development can be broadly categorized into distinct stages: The Dream, Expert Systems Era, AI Winter, Rise of Machine Learning, and Deep Learning Boom.\n*   Early AI focused on rule-based systems, which were limited in their adaptability and learning capabilities.\n*   Expert systems aimed to mimic expert knowledge in specific fields but lacked general intelligence and struggled with uncertainty.\n*   The \"AI Winter\" was a period of reduced funding and interest due to the limitations of early AI systems.\n*   Machine learning revolutionized AI by enabling systems to learn from data, identify patterns, and improve over time without explicit programming.\n*   Deep learning, a subset of machine learning using neural networks, has fueled the recent AI boom, leading to significant advancements in various fields.\n*   AI development raises important ethical considerations, including bias, job displacement, privacy, and control.\n*   AI is a rapidly evolving field with the potential to transform various aspects of our lives, but it must be developed and used responsibly.\n\n## Deep Dive\n\n### 1. The Dream (1950s - 1960s): The Birth of AI\n*   **Focus:** Initial excitement about creating machines that could think like humans.\n*   **Approach:** Rule-based programming; machines were given explicit instructions to follow.\n*   **Example:** Checkers-playing programs with predefined rules.\n*   **Limitations:** Inability to adapt to new situations or learn from mistakes; \"brittle\" systems.\n\n### 2. The Expert Systems Era (1970s - 1980s): Teaching Machines Knowledge\n*   **Focus:** Providing computers with vast amounts of knowledge in specific domains.\n*   **Approach:** Building databases of facts and rules specific to a particular field.\n*   **Example:** Medical diagnosis programs containing information about diseases and treatments.\n*   **Limitations:** Lack of general intelligence, difficulty with uncertainty, and limited learning capabilities.\n\n### 3. The AI Winter (Late 1980s - Early 1990s): A Period of Disappointment\n*   **Cause:** Disappointment with the slow progress and limitations of early AI systems, particularly expert systems.\n*   **Impact:** Reduced funding and interest in AI research.\n*   **Key Realization:** Creating truly intelligent machines was more challenging than initially anticipated.\n\n### 4. The Rise of Machine Learning (Late 1990s - Present): Learning from Data\n*   **Focus:** Enabling machines to learn from data without explicit programming.\n*   **Approach:** Using algorithms to analyze data, identify patterns, and improve performance over time.\n*   **Types of Machine Learning:**\n    *   **Supervised Learning:** Learning from labeled data (e.g., cat and dog images).\n    *   **Unsupervised Learning:** Discovering patterns in unlabeled data (e.g., grouping toys by characteristics).\n    *   **Reinforcement Learning:** Learning through trial and error with rewards for desired behavior.\n*   **Revolutionary Aspect:** Ability to handle complex tasks, adapt to new situations, and continuously improve.\n\n### 5. Deep Learning and the AI Boom (2010s - Present): The Power of Neural Networks\n*   **Focus:** Using artificial neural networks with multiple layers to learn complex patterns.\n*   **Approach:** Deep learning, a subset of machine learning, inspired by the human brain.\n*   **Key Advancement:** Ability to learn more complex patterns than traditional machine learning methods.\n*   **Impact:** Fueling the recent AI boom and leading to groundbreaking advancements.\n\n## Real-World Examples\n\n*   **Spam filters:** Utilize machine learning to identify spam emails based on patterns.\n*   **Recommendation systems:** Suggest movies or products based on user behavior.\n*   **Image recognition:** Identify objects in photos, including faces and cars.\n*   **Self-driving cars:** Learn to navigate roads and traffic using machine learning and deep learning.\n*   **Voice assistants:** Siri, Alexa, and Google Assistant use deep learning to understand and respond to spoken commands.\n*   **Facial recognition:** Used for unlocking smartphones and identifying people in photos.\n*   **Machine translation:** Translate languages accurately and efficiently using deep learning.\n*   **Game playing:** AI systems can now beat humans in complex games like Go and chess.\n\n## Final Thoughts\nThe journey of AI has been marked by periods of excitement, disappointment, and significant breakthroughs. From early rule-based systems to the sophisticated machine learning and deep learning models of today, AI has come a long way. As AI continues to evolve, it holds immense potential to transform various aspects of our lives, from healthcare and transportation to education and manufacturing. However, it is crucial to address the ethical implications and challenges associated with AI development, ensuring that it is used responsibly and for the benefit of all. The analogy of a growing child highlights the need for guidance and direction as AI continues to mature and shape our future.\n"
          },
          "metadata": {}
        },
        {
          "output_type": "stream",
          "name": "stdout",
          "text": [
            "\n",
            "\n",
            "\n",
            "Third Chain Output (Image Generation Prompt):\n",
            "\n",
            "\n"
          ]
        },
        {
          "output_type": "display_data",
          "data": {
            "text/plain": [
              "<IPython.core.display.Markdown object>"
            ],
            "text/markdown": "Okay, here's a descriptive image generation prompt based on the provided markdown, aiming for a clear, vivid, and detailed output:\n\n**Prompt:**\n\n\"Generate an image depicting the evolution of Artificial Intelligence as a journey of a growing child, rendered in a vibrant, semi-realistic style. The image should be a vertical composition, showcasing distinct stages of this growth, each visually representing a key phase in AI history.\n\nAt the bottom of the image, we see a **baby in a crib, surrounded by simple building blocks**. This represents **\"The Dream\" stage (1950s-1960s).** The blocks are labeled with basic rules or logic symbols, like arrows and simple math signs. The scene is bright and hopeful, with an almost innocent feel.\n\nMoving upwards, the next stage shows a **toddler attempting to sort large, heavy books** with titles like \"Medical Knowledge\" and \"Engineering Principles.\" This represents the **\"Expert Systems Era\" (1970s-1980s)**. The toddler appears frustrated or confused, perhaps slightly overwhelmed by the sheer volume of information. The colors here should be a bit more muted, reflecting the difficulties encountered during this period.\n\nAbove that, we see an image of a **child sitting dejectedly in a gray room**, with a wilting potted plant nearby. This symbolizes the **\"AI Winter\" (Late 1980s- Early 1990s).** The overall mood is somber and subdued, with a focus on a sense of stagnation and disappointment.\n\nContinuing upwards, the next scene shows a **teenager surrounded by glowing data streams and interactive interfaces**. This represents the **\"Rise of Machine Learning\" (Late 1990s-Present).** The teen is actively manipulating and learning from the data. The scene should be filled with vibrant colors and a sense of energy and progress. Different types of"
          },
          "metadata": {}
        }
      ]
    }
  ]
}